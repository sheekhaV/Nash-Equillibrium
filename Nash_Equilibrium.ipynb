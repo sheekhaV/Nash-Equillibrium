{
 "cells": [
  {
   "cell_type": "markdown",
   "metadata": {},
   "source": [
    "# Nash Equilibrium: A Brief Introduction \n",
    "\n",
    "### Author: Sheekha Verma, Swaprava Nath"
   ]
  },
  {
   "cell_type": "markdown",
   "metadata": {},
   "source": [
    "### Nash Equilibrium is a fundamental concept in the history of games and the most widely used method of predicting the outcome of a strategic interaction in the social sciences. \n",
    "\n",
    "A game comprises of:\n",
    "- Players\n",
    "- Actions\n",
    "- Pay-off Functions\n",
    "\n",
    "### Representing a Game and its Outcome\n",
    "\n",
    "Games can be described by a matrix (shown below). This form of representation is known as normal form\n",
    "\n",
    ".....................................................................................\n",
    "Insert Image\n",
    "\n",
    "### Pure Strategy Nash Equilibrium\n",
    "\n",
    "A pure strategy nash equilibrium is an action profile with the property that no single player can obtain a higher payoff by deviating unilaterally from this profile. In other words, no other player in the game would take a different action as long as every other player remains the same. Nash equilibria are self enforcing when players are at a Nash Equilibrium, they have no desire to move because they’ll be worse off. This concept can best be understood by looking at the following example:\n",
    "\n",
    "Elements of the game:\n",
    "- Two players: N = {1,2}\n",
    "- Actions: A1= {A,B}; A2 = {A,B} \n",
    "- Payoffs: \n",
    "    If the players choose different actions each get a payoff of 0. \n",
    "    If they both choose A, each get 2. \n",
    "    If they both choose B, each get 1.\n",
    "......................................................................\n",
    "Insert Image\n",
    "\n",
    "\n",
    "\n",
    "Nash Equilibrium:\n",
    "- The action profiles (A,A) and (B,B) are Nash Equilibrium\n",
    "\n",
    "### Mixed Strategy Nash Equilibrium\n",
    "\n",
    "In some cases, instead of simply choosing an action, players may be able to choose probability distributions over the set of actions available to them. Such randomization over the set of actions are referred to as Mixed strategies. Any profile of mixed strategies induces a probability distribution over action profiles in the game. Under certain assumptions a player’s preferences over all such lotteries can be represented by a function (called a von Neumann-Morgenstern utility function) that assigns a real number to each action profile. One lottery is preferred to another if and only if it results in a higher expected value of this utility function. A mixed strategy nash equilibrium is then a mixed strategy profile with property that no single player can obtain a player can obtain a higher value of expected utility by deviating unilaterally from this profile\n",
    "\n",
    "\n",
    "\n",
    "## Algorithm for Finding All Pure and Mixed Strategy Nash Equilibrium\n",
    ".........................................\n",
    "Insert Image\n"
   ]
  },
  {
   "cell_type": "markdown",
   "metadata": {},
   "source": [
    "##Libraries Needed\n",
    "a) Numpy\n",
    "b) Scipy\n",
    "c) Sympy\n",
    "d) Itertools\n",
    "e) Gambit (to represent games) \n",
    "\n",
    "###Details about Gambit:\n",
    "Gambit is a library of tools for doing computation in game theory. The python interface can be downloaded at http://sourceforge.net/projects/gambit/files/gambit13/13.1.2/\n",
    "\n",
    "To install gambit please see the steps below:\n",
    "1. Install Cython\n",
    "2. Detailed steps are given at: http://gambit.sourceforge.net/gambit14/build.html\n",
    "\n",
    "For more details please visit: http://www.gambit-project.org/gambit13/intro.html#section-downloading\n",
    "\n",
    "Games stored in existing Gambit savefiles in either the .efg or .nfg formats can be loaded using Game.read_game()"
   ]
  },
  {
   "cell_type": "code",
   "execution_count": null,
   "metadata": {
    "collapsed": true
   },
   "outputs": [],
   "source": [
    "game1 = gambit.Game.read_game(\"e02.nfg\")\n",
    "#check the output for the game\n",
    "game1"
   ]
  },
  {
   "cell_type": "code",
   "execution_count": null,
   "metadata": {
    "collapsed": true
   },
   "outputs": [],
   "source": [
    "We can either also create a game as shown below:"
   ]
  },
  {
   "cell_type": "code",
   "execution_count": null,
   "metadata": {
    "collapsed": true
   },
   "outputs": [],
   "source": [
    "#Adding a Prisoner's dilemma game\n",
    "#=============================================================================\n",
    "g_pd = gm.Game.new_table([2,2])\n",
    "\n",
    "g_pd.title = \"A prisoner's dilemma game\"\n",
    "g_pd.players[0].label = \"P1\"\n",
    "g_pd.players[1].label = \"P2\"\n",
    "\n",
    "#______________ Printing the game so far\n",
    "#g_pd\n",
    "\n",
    "#Adding stratgies\n",
    "g_pd.players[0].strategies\n",
    "\n",
    "g_pd.players[0].strategies[0].label = \"C\"\n",
    "g_pd.players[0].strategies[1].label = \"D\"\n",
    "\n",
    "g_pd.players[1].strategies[0].label = \"C\"\n",
    "g_pd.players[1].strategies[1].label = \"D\"\n",
    "\n",
    "#______________Printing the strategies\n",
    "g_pd.players[0].strategies\n",
    "\n",
    "#Adding the payoffs\n",
    "g_pd[0,0][0] = 8 #Payoff od P1 when action by both P1 and P2 are cooperate (0)\n",
    "g_pd[0,0][1] = 8\n",
    "\n",
    "g_pd[0,1][0] = 2 #Payoff when P2 defects\n",
    "g_pd[0,1][1] = 10\n",
    "\n",
    "g_pd[1,0][0] = 10 #Payoff when P1 defects\n",
    "g_pd[1,0][1] = 2\n",
    "\n",
    "g_pd[1,1][0] = 5 #Payoff when both defects\n",
    "g_pd[1,1][1] = 5\n",
    "\n",
    "#=============================================================================="
   ]
  },
  {
   "cell_type": "markdown",
   "metadata": {},
   "source": [
    "# The Nash Equilibrium Code:"
   ]
  },
  {
   "cell_type": "code",
   "execution_count": null,
   "metadata": {
    "collapsed": true
   },
   "outputs": [],
   "source": [
    "# Imports\n",
    "import sympy as sp\n",
    "import numpy as np\n",
    "import scipy as sc\n",
    "import itertools as it\n",
    "import gambit as gm\n",
    "\n",
    "#Reading games from an existing nfg file\n",
    "#game = gm.Game.read_game(\"/Users/Sheekha/Documents/Python/Project-Nash-Equlibrium/nfg_files/Chicken_game\")\n",
    "\n",
    "#Reading the game created above\n",
    "game = g_pd"
   ]
  },
  {
   "cell_type": "markdown",
   "metadata": {},
   "source": [
    "### Step 1: Generates combination of all actions from the list of action of each player\n",
    "First we generate all possible sets of actions that are possible, given the strategy set of each player. "
   ]
  },
  {
   "cell_type": "code",
   "execution_count": 4,
   "metadata": {
    "collapsed": false
   },
   "outputs": [
    {
     "data": {
      "image/png": "[encoded data removed]",
      "text/plain": [
       "<matplotlib.figure.Figure at 0x7ff23f09b470>"
      ]
     },
     "metadata": {},
     "output_type": "display_data"
    }
   ],
   "source": [
    "#Generates combination of all actions from the list of action of each player\n",
    "#For example the the array \"actions = [[0,1], [0,1,2]]\" denotes player1's action set is [0,1] and player2's action set is [0,1,2]\n",
    "#The code below generates all possible sets of (player 1 action, player 2 actions)\n",
    "def generate_action_combinations(actions):\n",
    "    return map(list, it.product(*actions))\n",
    "\n",
    "#Select action combinations of all players with a particulat action for a particular player\n",
    "#For example: If player 2 plays 1, then the possible action combinations for the example given above is [(0,1), (1,1)]\n",
    "def generate_remaining_player_action_combination (actions, player_index, player_action):\n",
    "    temp_actions = actions[:]\n",
    "    final_actions = [x for x in temp_actions if x[player_index] == player_action]\n",
    "    return final_actions"
   ]
  },
  {
   "cell_type": "markdown",
   "metadata": {},
   "source": [
    "###Step 2: Generating support\n",
    "The algorithm checks for the presence of Nash equilibrium by:\n",
    "1) generating all subset of action sets which can be played. This is known as support\n",
    "2) For each support generated above, we calculate the probability that players will play an action in the support\n",
    "3) We then check if there is any player who will deviate from the above solution!"
   ]
  },
  {
   "cell_type": "code",
   "execution_count": 5,
   "metadata": {
    "collapsed": false
   },
   "outputs": [
    {
     "data": {
      "image/png": "[encoded data removed]",
      "text/plain": [
       "<matplotlib.figure.Figure at 0x7ff23f09b470>"
      ]
     },
     "execution_count": 5,
     "metadata": {},
     "output_type": "execute_result"
    }
   ],
   "source": [
    "#Generates support for each players\n",
    "def generate_support_each_player(actions):\n",
    "    support = []\n",
    "    for i in xrange(1, len(actions)+1):\n",
    "        support += [list(x) for x in it.combinations(actions, i)]\n",
    "    return support\n",
    "\n",
    "#Generates back the set of action indices given a support i.e. list of all actions present in the support\n",
    "def calculate_action_indices_from_support(support):\n",
    "    transposed = zip(*support)  \n",
    "    used_player_actions = [list(set(x)) for x in transposed]\n",
    "    return used_player_actions\n",
    "\n",
    "#Generates the set of actions not in the support\n",
    "def get_missing_action_sets(action_sets, original_action_sets):\n",
    "    unused_actions = [[] for x in players]\n",
    "    used_player_actions = zip(*action_sets)\n",
    "    for x in range(len(original_action_sets)):\n",
    "        original_action_set = original_action_sets[x]\n",
    "        used_action_set = used_player_actions[x]\n",
    "        unused_actions[x] = [item for item in original_action_set if item not in used_action_set]\n",
    "    return unused_actions"
   ]
  },
  {
   "cell_type": "markdown",
   "metadata": {},
   "source": [
    "###Step 3: Generating payoff matrices"
   ]
  },
  {
   "cell_type": "code",
   "execution_count": 6,
   "metadata": {
    "collapsed": false
   },
   "outputs": [
    {
     "data": {
      "image/png": "[encoded data removed]",
      "text/plain": [
       "<matplotlib.figure.Figure at 0x7ff23f09b470>"
      ]
     },
     "execution_count": 6,
     "metadata": {},
     "output_type": "execute_result"
    }
   ],
   "source": [
    "#generating the set of payoffs possible\n",
    "def generate_payoff(game, action_set, player_index):\n",
    "    return game[action_set][player_index]\n",
    "\n",
    "#generating payoff given a support\n",
    "def generate_payoffs(support, solution):\n",
    "    symbols = sp.symarray('p', (players_count, max(action_counts)))\n",
    "    payoffs = [0 for x in players]\n",
    "\n",
    "    for pindex in range(players_count):\n",
    "        player_action = support[0][pindex]\n",
    "        player_filtered_sets = [x for x in support if x[pindex] == player_action]\n",
    "        for action_set in player_filtered_sets:\n",
    "            prod = 1\n",
    "            for pcount in action_set:\n",
    "                if pcount != pindex:\n",
    "                    prod *= solution[symbols[pcount, action_set[pcount]]]\n",
    "            payoffs[pindex] += game[action_set][pindex]*prod\n",
    "\n",
    "    return payoffs"
   ]
  },
  {
   "cell_type": "markdown",
   "metadata": {},
   "source": [
    "###Step 4:  Checking if the above solution is feasible"
   ]
  },
  {
   "cell_type": "code",
   "execution_count": 7,
   "metadata": {
    "collapsed": false
   },
   "outputs": [
    {
     "data": {
      "image/png": "[encoded data removed]",
      "text/plain": [
       "<matplotlib.figure.Figure at 0x7ff23f09b470>"
      ]
     },
     "execution_count": 7,
     "metadata": {},
     "output_type": "execute_result"
    }
   ],
   "source": [
    "#First check - is the probability solution possible? Is p>=0 and p<= 1?\n",
    "def checking_probability(p):\n",
    "    if p<=1 and p>=0:\n",
    "        return True\n",
    "    else:\n",
    "        return False\n",
    "\n",
    "#Second check - will players deviate?\n",
    "def check_support_payoff(payoffs, support):\n",
    "    missing_actions = get_missing_action_sets(support, all_action_indices)\n",
    "    for player_index in range(len(missing_actions)):\n",
    "        temp_action_indices = all_action_indices[:]\n",
    "        missing_action_set = missing_actions[player_index]\n",
    "        if len(missing_action_set) > 0:\n",
    "            temp_action_indices[player_index] = missing_action_set\n",
    "            all_combinations = generate_action_combinations(temp_action_indices)\n",
    "            for combination in all_combinations:\n",
    "                if game[combination][player_index] > payoffs[player_index]:\n",
    "                    return False\n",
    "    return True\n",
    "\n",
    "\n",
    "def is_solution_feasible(support, solution):\n",
    "    for key in solution:\n",
    "        if solution[key] < 0 or solution[key] > 1:\n",
    "            return False\n",
    "    payoffs = generate_payoffs(support, solution)\n",
    "    return check_support_payoff(payoffs, support)"
   ]
  },
  {
   "cell_type": "markdown",
   "metadata": {},
   "source": [
    "### Main code"
   ]
  },
  {
   "cell_type": "code",
   "execution_count": 8,
   "metadata": {
    "collapsed": false
   },
   "outputs": [
    {
     "data": {
      "image/png": "[encoded data removed]",
      "text/plain": [
       "<matplotlib.figure.Figure at 0x7ff23f09b470>"
      ]
     },
     "execution_count": 8,
     "metadata": {},
     "output_type": "execute_result"
    }
   ],
   "source": [
    "# Defining variables \n",
    "players = game.players\n",
    "players_count = len(players) #number of players\n",
    "\n",
    "all_action_indices = [] #action set of all players\n",
    "all_action_counts = [len(game.players[i].strategies) for i in range(players_count)]\n",
    "all_action_indices = [range(all_action_counts[i]) for i in range(players_count)]\n",
    "\n",
    "#Calculating the number of variables needed\n",
    "variable_count = sum(all_action_counts)\n",
    "\n",
    "\n",
    "#######list of support\n",
    "possible_actions_all_players= []\n",
    "\n",
    "for player_index in range(players_count):\n",
    "    possible_actions_all_players += [generate_support_each_player(all_action_indices[player_index])]\n",
    "\n",
    "\n",
    "population_set = generate_action_combinations(possible_actions_all_players)\n",
    "\n",
    "\n",
    "possible_support_action = []\n",
    "for i in range(len(population_set)):\n",
    "    if len(generate_action_combinations(population_set[i])) > 1:\n",
    "        possible_support_action.append(generate_action_combinations(population_set[i]))\n",
    "#print possible_support_action\n",
    "\n",
    "support_action_count = len(possible_support_action)\n",
    "\n",
    "\n",
    "for each_support in range(support_action_count):\n",
    "    #===================================================================\n",
    "    action_indices = calculate_action_indices_from_support(possible_support_action[each_support])\n",
    "    #print action_indices\n",
    "\n",
    "    action_counts = [len(action_indices[i]) for i in range(len(action_indices))]\n",
    "    #print action_counts\n",
    "    \n",
    "    player_probaility_list = sp.symarray('p', (players_count, max(action_counts)))\n",
    "    \n",
    "    list_of_variables = []\n",
    "\n",
    "    for iterator in xrange(players_count):\n",
    "        list_of_variables += [player_probaility_list[iterator, i] for i in range(max(action_counts))]\n",
    "\n",
    "    ###initializing the set of equations\n",
    "    set_of_equations = []\n",
    "    \n",
    "    for player_index in range(players_count):\n",
    "\n",
    "        generating_each_player_equations = []\n",
    "    \n",
    "        for player_action_index in range(action_counts[player_index]):\n",
    "        \n",
    "            remaining_player_action_set = generate_remaining_player_action_combination(action_indices, player_index, player_action_index)\n",
    "            print remaining_player_action_set\n",
    "            \n",
    "            pay_off_after_randomizing = 0        \n",
    "        \n",
    "            for other_action_combination in range(len(remaining_player_action_set)):\n",
    "            \n",
    "                #for each action tuple of the other players\n",
    "                current_action_set = remaining_player_action_set[other_action_combination]\n",
    "                print current_action_set\n",
    "                \n",
    "                payoff_current_action_set = game[current_action_set][player_index]\n",
    "                \n",
    "            \n",
    "                for counter in range(players_count):\n",
    "                    if counter != player_index:\n",
    "                        probability = player_probaility_list[counter, current_action_set[counter]]\n",
    "                        payoff_current_action_set *= probability\n",
    "                        \n",
    "                pay_off_after_randomizing += payoff_current_action_set\n",
    "            \n",
    "            generating_each_player_equations.append(pay_off_after_randomizing)\n",
    "    \n",
    "        #generating equations for each player\n",
    "        for i in range(action_counts[player_index] - 1):\n",
    "            set_of_equations += [generating_each_player_equations[i] - generating_each_player_equations[i+1] ]\n",
    "    \n",
    "        #Adding the sum of probabilities to the set of equations\n",
    "        set_of_equations += [sum(player_probaility_list[player_index, i] for i in range(action_counts[player_index])) - 1]\n",
    "\n",
    "        \n",
    "    solution = sp.solve(set_of_equations,list_of_variables)\n",
    "    is_support_feasible = is_solution_feasible(action_indices, solution)\n",
    "    \n",
    "    if is_support_feasible:\n",
    "        print \"Found a Mixed Strategy Nash Equillibrium\"\n",
    "        print solution\n"
   ]
  }
 ],
 "metadata": {
  "kernelspec": {
   "display_name": "Python 2",
   "language": "python",
   "name": "python2"
  },
  "language_info": {
   "codemirror_mode": {
    "name": "ipython",
    "version": 2
   },
   "file_extension": ".py",
   "mimetype": "text/x-python",
   "name": "python",
   "nbconvert_exporter": "python",
   "pygments_lexer": "ipython2",
   "version": "2.7.5"
  }
 },
 "nbformat": 4,
 "nbformat_minor": 0
}
